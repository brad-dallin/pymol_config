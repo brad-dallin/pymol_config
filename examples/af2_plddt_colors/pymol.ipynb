{
 "cells": [
  {
   "cell_type": "code",
   "execution_count": 2,
   "metadata": {},
   "outputs": [],
   "source": [
    "# Import modules\n",
    "import pymol\n",
    "import pymol.cmd as cmd"
   ]
  },
  {
   "cell_type": "code",
   "execution_count": null,
   "metadata": {},
   "outputs": [
    {
     "name": "stdout",
     "output_type": "stream",
     "text": [
      "PyMOL>reinitialize\n",
      "PyMOL>import psico.fullinit\n",
      "PyMOL>import psico.morphing\n",
      "PyMOL>PATH_PYMOL=\"/Users/bdallin/Projects/repos/pymol_config\"\n",
      "PyMOL>cmd.run(f\"{PATH_PYMOL}/custom_palettes.py\")\n",
      "Checking for pastel colors...\n",
      "Adding pastel palette colors...\n",
      "These pastel colors are now available:\n",
      "    pastel_red\n",
      "    pastel_orange\n",
      "    pastel_yellow\n",
      "    pastel_green\n",
      "    pastel_lightblue\n",
      "    pastel_blue\n",
      "    pastel_purple\n",
      "    pastel_pink\n",
      "Adding pastel menu...\n",
      "    done.\n",
      "\n",
      "Checking for colorblind colors...\n",
      "Adding colorblind palette colors...\n",
      "These colorblind colors are now available:\n",
      "    cb_darkorange\n",
      "    cb_orange\n",
      "    cb_yellow\n",
      "    cb_tan\n",
      "    cb_darkgreen\n",
      "    cb_green\n",
      "    cb_teal\n",
      "    cb_darkblue\n",
      "    cb_blue\n",
      "    cb_lightblue\n",
      "    cb_darkpurple\n",
      "    cb_purple\n",
      "    cb_pink\n",
      "    cb_lightpink\n",
      "Adding colorblind menu...\n",
      "    done.\n",
      "\n",
      "Checking for viridis colors...\n",
      "Adding viridis palette colors...\n",
      "These viridis colors are now available:\n",
      "    viridis1\n",
      "    viridis2\n",
      "    viridis3\n",
      "    viridis4\n",
      "    viridis5\n",
      "    viridis6\n",
      "    viridis7\n",
      "    viridis8\n",
      "    viridis9\n",
      "    viridis10\n",
      "    viridis11\n",
      "Adding viridis menu...\n",
      "    done.\n",
      "\n",
      "Checking for magma colors...\n",
      "Adding magma palette colors...\n",
      "These magma colors are now available:\n",
      "    magma1\n",
      "    magma2\n",
      "    magma3\n",
      "    magma4\n",
      "    magma5\n",
      "    magma6\n",
      "    magma7\n",
      "    magma8\n",
      "    magma9\n",
      "    magma10\n",
      "    magma11\n",
      "Adding magma menu...\n",
      "    done.\n",
      "\n",
      "PyMOL>cmd.run(f\"{PATH_PYMOL}/pymol_functions.py\")\n",
      "PyMOL>cmd.run(f\"{PATH_PYMOL}/pymol_style.py\")\n",
      "Updating VDW radii...\n"
     ]
    }
   ],
   "source": [
    "pymol.finish_launching(['pymol', '-cq'])\n",
    "cmd.load(\"AF-O60674-F1-model_v4.cif\")\n",
    "cmd.quit()"
   ]
  },
  {
   "cell_type": "code",
   "execution_count": 4,
   "metadata": {},
   "outputs": [],
   "source": [
    "# Valid Expressions\n",
    "# model (str): the object name (appearing in the selection panel on the right) (cannot be altered)\n",
    "# name (str): the atom name\n",
    "# resn (str): the residue name\n",
    "# oneletter (str): resn translated to one letter code, like it's displayed in the sequence viewer (cannot be altered, alter resn instead) (PyMOL 1.8.7+)\n",
    "# resi (str): the residue identifier (residue number) as a string, including optional insertion code\n",
    "# resv (int): the residue identifier (residue number) as an integer, excluding insertion code\n",
    "# chain (str): the chain name\n",
    "# alt (str): alternate location identifier\n",
    "# elem (str): the chemical element\n",
    "# q (float): occupancy\n",
    "# b (float): the B Factor\n",
    "# segi (str): segment identifier (columns 73-76 in PDB file)\n",
    "# type (str: ATOM,HETATM): the atom type (PDB convention for canonical polymer residues)\n",
    "# formal_charge (int): the formal charge of the atom\n",
    "# partial_charge (float): the partial charge of the atom\n",
    "# numeric_type\n",
    "# text_type (str): automatic mol2 atom typing (Incentive PyMOL 1.4+)\n",
    "# stereo (str): automatic stereochemical R/S label (Incentive PyMOL 1.4+)\n",
    "# ID (int): PDB atom id (not guaranteed to be unique)\n",
    "# rank (int): atom index from original file import (not guaranteed to be unique)\n",
    "# index (int): internal atom index (unique per object, sensitive to sorting and removing of atoms, cannot be altered)\n",
    "# vdw (float): Van der Waals radius\n",
    "# ss (str): secondary structure\n",
    "# color (int): color index\n",
    "# reps (int): numeric mask of shown representations (PyMOL 1.7.4+)\n",
    "# protons (int): (PyMOL 1.7.4+)\n",
    "# p (object): property object to access user-defined properties like p.abc (Incentive PyMOL 1.7+)\n",
    "# s (object): settings object to access settings, e.g. s.sphere_scale (Incentive PyMOL 1.7+, Open-Source PyMOL 1.8.1+)\n",
    "# label (str): see label\n",
    "# geom (int): 1=single, 2=linear, 3=planar, 4=tetrahedral (see set_geometry)\n",
    "# valence (int): expected number of bonds (?)\n",
    "# flags (int): bitmask, see flag\n",
    "# cartoon (int): see cartoon"
   ]
  },
  {
   "cell_type": "code",
   "execution_count": 5,
   "metadata": {},
   "outputs": [
    {
     "ename": "KeyboardInterrupt",
     "evalue": "",
     "output_type": "error",
     "traceback": [
      "\u001b[31m---------------------------------------------------------------------------\u001b[39m",
      "\u001b[31mKeyboardInterrupt\u001b[39m                         Traceback (most recent call last)",
      "\u001b[36mCell\u001b[39m\u001b[36m \u001b[39m\u001b[32mIn[5]\u001b[39m\u001b[32m, line 2\u001b[39m\n\u001b[32m      1\u001b[39m cmd.set_color(\u001b[33m\"\u001b[39m\u001b[33mplddt_very_high\u001b[39m\u001b[33m\"\u001b[39m, [\u001b[32m33\u001b[39m, \u001b[32m81\u001b[39m, \u001b[32m204\u001b[39m])\n\u001b[32m----> \u001b[39m\u001b[32m2\u001b[39m \u001b[43mcmd\u001b[49m\u001b[43m.\u001b[49m\u001b[43mset_color\u001b[49m\u001b[43m(\u001b[49m\u001b[33;43m\"\u001b[39;49m\u001b[33;43mplddt_high\u001b[39;49m\u001b[33;43m\"\u001b[39;49m\u001b[43m,\u001b[49m\u001b[43m \u001b[49m\u001b[43m[\u001b[49m\u001b[32;43m127\u001b[39;49m\u001b[43m,\u001b[49m\u001b[43m \u001b[49m\u001b[32;43m201\u001b[39;49m\u001b[43m,\u001b[49m\u001b[43m \u001b[49m\u001b[32;43m239\u001b[39;49m\u001b[43m]\u001b[49m\u001b[43m)\u001b[49m\n\u001b[32m      3\u001b[39m cmd.set_color(\u001b[33m\"\u001b[39m\u001b[33mplddt_low\u001b[39m\u001b[33m\"\u001b[39m, [\u001b[32m249\u001b[39m, \u001b[32m220\u001b[39m, \u001b[32m77\u001b[39m])\n\u001b[32m      4\u001b[39m cmd.set_color(\u001b[33m\"\u001b[39m\u001b[33mplddt_very_low\u001b[39m\u001b[33m\"\u001b[39m, [\u001b[32m238\u001b[39m, \u001b[32m132\u001b[39m, \u001b[32m83\u001b[39m])\n",
      "\u001b[36mFile \u001b[39m\u001b[32m~/miniconda3/envs/pymol-arm64/lib/python3.12/site-packages/pymol/viewing.py:2203\u001b[39m, in \u001b[36mset_color\u001b[39m\u001b[34m(name, rgb, mode, quiet, _self)\u001b[39m\n\u001b[32m   2200\u001b[39m \u001b[38;5;28;01mif\u001b[39;00m rgb[\u001b[32m0\u001b[39m] > \u001b[32m1.0\u001b[39m \u001b[38;5;129;01mor\u001b[39;00m rgb[\u001b[32m1\u001b[39m] > \u001b[32m1.0\u001b[39m \u001b[38;5;129;01mor\u001b[39;00m rgb[\u001b[32m2\u001b[39m] > \u001b[32m1.0\u001b[39m:\n\u001b[32m   2201\u001b[39m     rgb = [c / \u001b[32m0xFF\u001b[39m \u001b[38;5;28;01mfor\u001b[39;00m c \u001b[38;5;129;01min\u001b[39;00m rgb]\n\u001b[32m-> \u001b[39m\u001b[32m2203\u001b[39m \u001b[38;5;28;01mwith\u001b[39;00m _self.lockcm:\n\u001b[32m   2204\u001b[39m     r = _cmd.colordef(_self._COb, \u001b[38;5;28mstr\u001b[39m(name), rgb[\u001b[32m0\u001b[39m], rgb[\u001b[32m1\u001b[39m], rgb[\u001b[32m2\u001b[39m],\n\u001b[32m   2205\u001b[39m                       \u001b[38;5;28mint\u001b[39m(mode), \u001b[38;5;28mint\u001b[39m(quiet))\n\u001b[32m   2206\u001b[39m     _self._invalidate_color_sc()\n",
      "\u001b[36mFile \u001b[39m\u001b[32m~/miniconda3/envs/pymol-arm64/lib/python3.12/site-packages/pymol/locking.py:22\u001b[39m, in \u001b[36mLockCM.__enter__\u001b[39m\u001b[34m(self)\u001b[39m\n\u001b[32m     21\u001b[39m \u001b[38;5;28;01mdef\u001b[39;00m\u001b[38;5;250m \u001b[39m\u001b[34m__enter__\u001b[39m(\u001b[38;5;28mself\u001b[39m):\n\u001b[32m---> \u001b[39m\u001b[32m22\u001b[39m     \u001b[43mlock\u001b[49m\u001b[43m(\u001b[49m\u001b[38;5;28;43mself\u001b[39;49m\u001b[43m.\u001b[49m\u001b[43mcmd\u001b[49m\u001b[43m)\u001b[49m\n",
      "\u001b[36mFile \u001b[39m\u001b[32m~/miniconda3/envs/pymol-arm64/lib/python3.12/site-packages/pymol/locking.py:27\u001b[39m, in \u001b[36mlock\u001b[39m\u001b[34m(_self)\u001b[39m\n\u001b[32m     26\u001b[39m \u001b[38;5;28;01mdef\u001b[39;00m\u001b[38;5;250m \u001b[39m\u001b[34mlock\u001b[39m(_self=cmd): \u001b[38;5;66;03m# INTERNAL -- API lock\u001b[39;00m\n\u001b[32m---> \u001b[39m\u001b[32m27\u001b[39m     \u001b[38;5;28;01mreturn\u001b[39;00m \u001b[43m_self\u001b[49m\u001b[43m.\u001b[49m\u001b[43mlock_api\u001b[49m\u001b[43m.\u001b[49m\u001b[43macquire\u001b[49m\u001b[43m(\u001b[49m\u001b[43m)\u001b[49m\n",
      "\u001b[31mKeyboardInterrupt\u001b[39m: "
     ]
    }
   ],
   "source": [
    "cmd.set_color(\"plddt_very_high\", [33, 81, 204])\n",
    "cmd.set_color(\"plddt_high\", [127, 201, 239])\n",
    "cmd.set_color(\"plddt_low\", [249, 220, 77])\n",
    "cmd.set_color(\"plddt_very_low\", [238, 132, 83])\n",
    "myspace = {'atom_index': []}\n",
    "cmd.iterate(\"(all)\", 'atom_index.append((index, b))', space=myspace)\n",
    "for ii, bb in myspace['l']:\n",
    "    if bb > 90.:\n",
    "        cmd.color(\"plddt_very_high\", f\"index {ii}\")\n",
    "    elif bb > 70.:\n",
    "        cmd.color(\"plddt_high\", f\"index {ii}\")\n",
    "    elif bb > 50.:\n",
    "        cmd.color(\"plddt_low\", f\"index {ii}\")\n",
    "    else:\n",
    "        cmd.color(\"plddt_very_low\", f\"index {ii}\")\n"
   ]
  },
  {
   "cell_type": "code",
   "execution_count": null,
   "metadata": {},
   "outputs": [],
   "source": []
  }
 ],
 "metadata": {
  "kernelspec": {
   "display_name": "pymol-arm64",
   "language": "python",
   "name": "python3"
  },
  "language_info": {
   "codemirror_mode": {
    "name": "ipython",
    "version": 3
   },
   "file_extension": ".py",
   "mimetype": "text/x-python",
   "name": "python",
   "nbconvert_exporter": "python",
   "pygments_lexer": "ipython3",
   "version": "3.12.9"
  }
 },
 "nbformat": 4,
 "nbformat_minor": 2
}
