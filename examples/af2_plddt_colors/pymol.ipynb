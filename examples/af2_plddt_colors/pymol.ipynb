{
 "cells": [
  {
   "cell_type": "code",
   "execution_count": null,
   "metadata": {},
   "outputs": [],
   "source": [
    "# Import modules\n",
    "import pymol\n",
    "import pymol.cmd as cmd"
   ]
  },
  {
   "cell_type": "code",
   "execution_count": 2,
   "metadata": {},
   "outputs": [
    {
     "name": "stdout",
     "output_type": "stream",
     "text": [
      "PyMOL>reinitialize\n",
      "PyMOL>import psico.fullinit\n",
      "PyMOL>import psico.morphing\n",
      "PyMOL>PATH_PYMOL=\"/Users/bdallin/Projects/repos/pymol_config\"\n",
      "PyMOL>cmd.run(f\"{PATH_PYMOL}/custom_palettes.py\")\n",
      "Checking for pastel colors...\n",
      "Adding pastel palette colors...\n",
      "These pastel colors are now available:\n",
      "    pastel_red\n",
      "    pastel_orange\n",
      "    pastel_yellow\n",
      "    pastel_green\n",
      "    pastel_lightblue\n",
      "    pastel_blue\n",
      "    pastel_purple\n",
      "    pastel_pink\n",
      "Adding pastel menu...\n",
      "    done.\n",
      "\n",
      "Checking for colorblind colors...\n",
      "Adding colorblind palette colors...\n",
      "These colorblind colors are now available:\n",
      "    cb_darkorange\n",
      "    cb_orange\n",
      "    cb_yellow\n",
      "    cb_tan\n",
      "    cb_darkgreen\n",
      "    cb_green\n",
      "    cb_teal\n",
      "    cb_darkblue\n",
      "    cb_blue\n",
      "    cb_lightblue\n",
      "    cb_darkpurple\n",
      "    cb_purple\n",
      "    cb_pink\n",
      "    cb_lightpink\n",
      "Adding colorblind menu...\n",
      "    done.\n",
      "\n",
      "Checking for viridis colors...\n",
      "Adding viridis palette colors...\n",
      "These viridis colors are now available:\n",
      "    viridis1\n",
      "    viridis2\n",
      "    viridis3\n",
      "    viridis4\n",
      "    viridis5\n",
      "    viridis6\n",
      "    viridis7\n",
      "    viridis8\n",
      "    viridis9\n",
      "    viridis10\n",
      "    viridis11\n",
      "Adding viridis menu...\n",
      "    done.\n",
      "\n",
      "Checking for magma colors...\n",
      "Adding magma palette colors...\n",
      "These magma colors are now available:\n",
      "    magma1\n",
      "    magma2\n",
      "    magma3\n",
      "    magma4\n",
      "    magma5\n",
      "    magma6\n",
      "    magma7\n",
      "    magma8\n",
      "    magma9\n",
      "    magma10\n",
      "    magma11\n",
      "Adding magma menu...\n",
      "    done.\n",
      "\n",
      "PyMOL>cmd.run(f\"{PATH_PYMOL}/pymol_functions.py\")\n",
      "PyMOL>cmd.run(f\"{PATH_PYMOL}/pymol_style.py\")\n",
      "Updating VDW radii...\n",
      " Color: loaded table '/Users/bdallin/miniconda3/envs/pymol-arm64/lib/python3.12/site-packages/pymol/pymol_path/data/pymol/cmyk.png'.\n"
     ]
    }
   ],
   "source": [
    "pymol.finish_launching(['pymol', '-cq'])\n",
    "cmd.load(\"AF-O60674-F1-model_v4.cif\")"
   ]
  },
  {
   "cell_type": "code",
   "execution_count": null,
   "metadata": {},
   "outputs": [
    {
     "data": {
      "text/plain": [
       "\"\\nmodel (str): the object name (appearing in the selection panel on the right) (cannot be altered)\\nname (str): the atom name\\nresn (str): the residue name\\noneletter (str): resn translated to one letter code, like it's displayed in the sequence viewer (cannot be altered, alter resn instead) (PyMOL 1.8.7+)\\nresi (str): the residue identifier (residue number) as a string, including optional insertion code\\nresv (int): the residue identifier (residue number) as an integer, excluding insertion code\\nchain (str): the chain name\\nalt (str): alternate location identifier\\nelem (str): the chemical element\\nq (float): occupancy\\nb (float): the B Factor\\nsegi (str): segment identifier (columns 73-76 in PDB file)\\ntype (str: ATOM,HETATM): the atom type (PDB convention for canonical polymer residues)\\nformal_charge (int): the formal charge of the atom\\npartial_charge (float): the partial charge of the atom\\nnumeric_type\\ntext_type (str): automatic mol2 atom typing (Incentive PyMOL 1.4+)\\nstereo (str): automatic stereochemical R/S label (Incentive PyMOL 1.4+)\\nID (int): PDB atom id (not guaranteed to be unique)\\nrank (int): atom index from original file import (not guaranteed to be unique)\\nindex (int): internal atom index (unique per object, sensitive to sorting and removing of atoms, cannot be altered)\\nvdw (float): Van der Waals radius\\nss (str): secondary structure\\ncolor (int): color index\\nreps (int): numeric mask of shown representations (PyMOL 1.7.4+)\\nprotons (int): (PyMOL 1.7.4+)\\np (object): property object to access user-defined properties like p.abc (Incentive PyMOL 1.7+)\\ns (object): settings object to access settings, e.g. s.sphere_scale (Incentive PyMOL 1.7+, Open-Source PyMOL 1.8.1+)\\nlabel (str): see label\\ngeom (int): 1=single, 2=linear, 3=planar, 4=tetrahedral (see set_geometry)\\nvalence (int): expected number of bonds (?)\\nflags (int): bitmask, see flag\\ncartoon (int): see cartoon\\n\""
      ]
     },
     "execution_count": 3,
     "metadata": {},
     "output_type": "execute_result"
    }
   ],
   "source": [
    "# Valid Expressions\n",
    "# model (str): the object name (appearing in the selection panel on the right) (cannot be altered)\n",
    "# name (str): the atom name\n",
    "# resn (str): the residue name\n",
    "# oneletter (str): resn translated to one letter code, like it's displayed in the sequence viewer (cannot be altered, alter resn instead) (PyMOL 1.8.7+)\n",
    "# resi (str): the residue identifier (residue number) as a string, including optional insertion code\n",
    "# resv (int): the residue identifier (residue number) as an integer, excluding insertion code\n",
    "# chain (str): the chain name\n",
    "# alt (str): alternate location identifier\n",
    "# elem (str): the chemical element\n",
    "# q (float): occupancy\n",
    "# b (float): the B Factor\n",
    "# segi (str): segment identifier (columns 73-76 in PDB file)\n",
    "# type (str: ATOM,HETATM): the atom type (PDB convention for canonical polymer residues)\n",
    "# formal_charge (int): the formal charge of the atom\n",
    "# partial_charge (float): the partial charge of the atom\n",
    "# numeric_type\n",
    "# text_type (str): automatic mol2 atom typing (Incentive PyMOL 1.4+)\n",
    "# stereo (str): automatic stereochemical R/S label (Incentive PyMOL 1.4+)\n",
    "# ID (int): PDB atom id (not guaranteed to be unique)\n",
    "# rank (int): atom index from original file import (not guaranteed to be unique)\n",
    "# index (int): internal atom index (unique per object, sensitive to sorting and removing of atoms, cannot be altered)\n",
    "# vdw (float): Van der Waals radius\n",
    "# ss (str): secondary structure\n",
    "# color (int): color index\n",
    "# reps (int): numeric mask of shown representations (PyMOL 1.7.4+)\n",
    "# protons (int): (PyMOL 1.7.4+)\n",
    "# p (object): property object to access user-defined properties like p.abc (Incentive PyMOL 1.7+)\n",
    "# s (object): settings object to access settings, e.g. s.sphere_scale (Incentive PyMOL 1.7+, Open-Source PyMOL 1.8.1+)\n",
    "# label (str): see label\n",
    "# geom (int): 1=single, 2=linear, 3=planar, 4=tetrahedral (see set_geometry)\n",
    "# valence (int): expected number of bonds (?)\n",
    "# flags (int): bitmask, see flag\n",
    "# cartoon (int): see cartoon"
   ]
  },
  {
   "cell_type": "code",
   "execution_count": null,
   "metadata": {},
   "outputs": [],
   "source": [
    "cmd.set_color(\"plddt_very_high\", [33, 81, 204])\n",
    "cmd.set_color(\"plddt_high\", [127, 201, 239])\n",
    "cmd.set_color(\"plddt_low\", [249, 220, 77])\n",
    "cmd.set_color(\"plddt_very_low\", [238, 132, 83])\n",
    "myspace = {'atom_index': []}\n",
    "cmd.iterate(\"(all)\", 'atom_index.append((index, b))', space=myspace)\n",
    "for ii, bb in myspace['l']:\n",
    "    if bb > 90.:\n",
    "        cmd.color(\"plddt_very_high\", f\"index {ii}\")\n",
    "    elif bb > 70.:\n",
    "        cmd.color(\"plddt_high\", f\"index {ii}\")\n",
    "    elif bb > 50.:\n",
    "        cmd.color(\"plddt_low\", f\"index {ii}\")\n",
    "    else:\n",
    "        cmd.color(\"plddt_very_low\", f\"index {ii}\")\n"
   ]
  },
  {
   "cell_type": "code",
   "execution_count": null,
   "metadata": {},
   "outputs": [],
   "source": []
  }
 ],
 "metadata": {
  "kernelspec": {
   "display_name": "pymol-arm64",
   "language": "python",
   "name": "python3"
  },
  "language_info": {
   "codemirror_mode": {
    "name": "ipython",
    "version": 3
   },
   "file_extension": ".py",
   "mimetype": "text/x-python",
   "name": "python",
   "nbconvert_exporter": "python",
   "pygments_lexer": "ipython3",
   "version": "3.12.9"
  }
 },
 "nbformat": 4,
 "nbformat_minor": 2
}
